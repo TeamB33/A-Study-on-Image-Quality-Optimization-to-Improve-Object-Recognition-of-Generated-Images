{
  "nbformat": 4,
  "nbformat_minor": 0,
  "metadata": {
    "colab": {
      "private_outputs": true,
      "provenance": [],
      "gpuType": "T4"
    },
    "kernelspec": {
      "name": "python3",
      "display_name": "Python 3"
    },
    "language_info": {
      "name": "python"
    },
    "accelerator": "GPU",
    "gpuClass": "standard"
  },
  "cells": [
    {
      "cell_type": "markdown",
      "source": [
        "##사용법\n",
        "0. 이미지 확장자 png인지 확인할 것\n",
        "1. image_path 부분을 기본 이미지 폴더위치로 바꿔주기\n",
        "2. img 부분을 기본 이미지 폴더 위치로 바꿔주기 (1번 위치와 동일)\n",
        "3. save_dir 부분을 결과 저장할 이미지 폴더 위치로 바꿔주기 (단, Mydrive에 있는 위치여야 함)"
      ],
      "metadata": {
        "id": "ivGUcDlowFI6"
      }
    },
    {
      "cell_type": "code",
      "execution_count": null,
      "metadata": {
        "id": "103fWN_EiwkJ"
      },
      "outputs": [],
      "source": [
        "# 드라이브 마운트\n",
        "from google.colab import drive\n",
        "drive.mount('/content/drive')"
      ]
    },
    {
      "cell_type": "code",
      "source": [
        "#라이브러리 설치\n",
        "!pip install Pillow"
      ],
      "metadata": {
        "id": "dYCs8FTQn_37"
      },
      "execution_count": null,
      "outputs": []
    },
    {
      "cell_type": "code",
      "source": [
        "#라이브러리 호출\n",
        "import os\n",
        "import numpy as np\n",
        "from PIL import Image"
      ],
      "metadata": {
        "id": "Mru2xPK8kb7U"
      },
      "execution_count": null,
      "outputs": []
    },
    {
      "cell_type": "code",
      "source": [
        "#변환할 이미지 목록 불러오기\n",
        "image_path = '/content/drive/MyDrive/denoising/PNGAN/cow/'\n",
        "\n",
        "img_list = os.listdir(image_path) #디렉토리 내 모든 파일 불러오기\n",
        "img_list_png = [img for img in img_list if img.endswith(\".png\")] #지정된 확장자만 필터링\n",
        "\n",
        "print(\"img_list: {}\".format(img_list))\n",
        "#print (\"img_list_png: {}\".format(img_list_png))"
      ],
      "metadata": {
        "id": "qKOfJXTPnIgz"
      },
      "execution_count": null,
      "outputs": []
    },
    {
      "cell_type": "code",
      "source": [
        "!pip3 install torch\n",
        "!pip3 install torchvision\n",
        "!pip install ultralytics"
      ],
      "metadata": {
        "id": "PasjZh10p2Zd"
      },
      "execution_count": null,
      "outputs": []
    },
    {
      "cell_type": "code",
      "source": [
        "import torch\n",
        "\n",
        "model = torch.hub.load('ultralytics/yolov5', 'yolov5x')  # or yolov5n - yolov5x6, custom\n",
        "\n",
        "for i in img_list:\n",
        "#for i in range(1, 399):\n",
        "  img=('/content/drive/MyDrive/denoising/PNGAN/cow/'+i)\n",
        "  results=model(img)\n",
        "  results.save(save_dir='/content/drive/MyDrive/denoising/PNGAN/cow-yolov5/', exist_ok=True)\n",
        "  #results.save(save_dir='/content/drive/MyDrive/yolo_result/bear/', exist_ok=True)"
      ],
      "metadata": {
        "id": "i75x07bmi25o"
      },
      "execution_count": null,
      "outputs": []
    }
  ]
}